{
 "cells": [
  {
   "cell_type": "markdown",
   "metadata": {},
   "source": [
    "# Øving 6"
   ]
  },
  {
   "cell_type": "markdown",
   "metadata": {},
   "source": [
    "Importing the mushroom dataset, i perform a recursive feature selection, using sklearn RFE, which is a recursive feature eliminator. Because of the dataset size, I've used LinearSVC as the classifier. "
   ]
  },
  {
   "cell_type": "code",
   "execution_count": null,
   "metadata": {},
   "outputs": [],
   "source": [
    "import pandas as pd\n",
    "from sklearn.svm import SVC\n",
    "from sklearn.feature_selection import RFE\n",
    "import numpy as np\n",
    "\n",
    "file = pd.read_csv(\"dataset/agaricus-lepiota.csv\")\n",
    "file_dummies = pd.get_dummies(file, columns=file.columns.values)\n",
    "X, y = file_dummies.values, file_dummies.index\n",
    "\n",
    "svc = SVC(kernel=\"linear\", C=1)\n",
    "rfe = RFE(estimator=svc, n_features_to_select=3, step=1)\n",
    "rfe.fit(X, y)\n",
    "np.array(file_dummies.columns)[rfe.get_support(indices=True)]"
   ]
  },
  {
   "cell_type": "markdown",
   "metadata": {},
   "source": [
    "We then do a PCA on the dataset, and print the leading values:"
   ]
  },
  {
   "cell_type": "code",
   "execution_count": null,
   "metadata": {},
   "outputs": [],
   "source": [
    "from sklearn import decomposition\n",
    "from sklearn import datasets\n",
    "\n",
    "pca = decomposition.PCA(n_components=3)\n",
    "pca.fit(X)\n",
    "Xpca = pca.transform(X)\n",
    "\n",
    "pcaFrame = pd.DataFrame(pca.components_, columns = x.columns)\n",
    "\n",
    "for num in range(amount):\n",
    "    print(++num)\n",
    "    print(pcaFrame.T[num].nlargest(3))\n",
    "    print() # Seperation\n",
    "    \n",
    "pcaFrame.T.idxmax()"
   ]
  },
  {
   "cell_type": "markdown",
   "metadata": {},
   "source": [
    "As we can see, there is an overlap between the features from the feature extraction, and the most prevelant features from the PCA. "
   ]
  }
 ],
 "metadata": {
  "kernelspec": {
   "display_name": "Python 3",
   "language": "python",
   "name": "python3"
  },
  "language_info": {
   "codemirror_mode": {
    "name": "ipython",
    "version": 3
   },
   "file_extension": ".py",
   "mimetype": "text/x-python",
   "name": "python",
   "nbconvert_exporter": "python",
   "pygments_lexer": "ipython3",
   "version": "3.8.5"
  }
 },
 "nbformat": 4,
 "nbformat_minor": 4
}
